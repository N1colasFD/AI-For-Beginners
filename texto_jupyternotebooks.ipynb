{
  "nbformat": 4,
  "nbformat_minor": 0,
  "metadata": {
    "colab": {
      "provenance": [],
      "toc_visible": true,
      "authorship_tag": "ABX9TyOtYfdK234a4JhEI3am6OJQ",
      "include_colab_link": true
    },
    "kernelspec": {
      "name": "python3",
      "display_name": "Python 3"
    },
    "language_info": {
      "name": "python"
    }
  },
  "cells": [
    {
      "cell_type": "markdown",
      "metadata": {
        "id": "view-in-github",
        "colab_type": "text"
      },
      "source": [
        "<a href=\"https://colab.research.google.com/github/N1colasFD/AI-For-Beginners/blob/main/texto_jupyternotebooks.ipynb\" target=\"_parent\"><img src=\"https://colab.research.google.com/assets/colab-badge.svg\" alt=\"Open In Colab\"/></a>"
      ]
    },
    {
      "cell_type": "code",
      "execution_count": null,
      "metadata": {
        "id": "NDgh67wfzO4R",
        "outputId": "ef650462-6380-4bb8-88e3-c76e49436855",
        "colab": {
          "base_uri": "https://localhost:8080/"
        }
      },
      "outputs": [
        {
          "output_type": "execute_result",
          "data": {
            "text/plain": [
              "array([1, 2, 3])"
            ]
          },
          "metadata": {},
          "execution_count": 1
        }
      ],
      "source": [
        "import numpy as np\n",
        "\n",
        "sample_list = [1, 2, 3]\n",
        "\n",
        "np.array(sample_list)"
      ]
    },
    {
      "cell_type": "code",
      "source": [
        "1+1"
      ],
      "metadata": {
        "colab": {
          "base_uri": "https://localhost:8080/"
        },
        "id": "-bv9wzT99gOh",
        "outputId": "aed9865b-cd86-44b2-ec47-a7cab78debfc"
      },
      "execution_count": null,
      "outputs": [
        {
          "output_type": "execute_result",
          "data": {
            "text/plain": [
              "2"
            ]
          },
          "metadata": {},
          "execution_count": 1
        }
      ]
    },
    {
      "cell_type": "markdown",
      "source": [
        "<div aling='center' color='red'> <h1>Titulo del notebook 🗽<h1> </div>\n"
      ],
      "metadata": {
        "id": "waWS4t5D1NIk"
      }
    },
    {
      "cell_type": "markdown",
      "source": [
        "![1527214271842.jpg](data:image/jpeg;base64,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)\n"
      ],
      "metadata": {
        "id": "mAqhf5tf5jkZ"
      }
    },
    {
      "cell_type": "markdown",
      "source": [
        "##(1) Primera Seccion\n"
      ],
      "metadata": {
        "id": "jqzZMsMQ1rQO"
      }
    },
    {
      "cell_type": "markdown",
      "source": [
        "links:  [Power of Sace] https://www.youtube.com/channel/UC4_4Pj1ag_LbTaTR-CadrdQ/videos"
      ],
      "metadata": {
        "id": "I1AokUyb6S-A"
      }
    },
    {
      "cell_type": "markdown",
      "source": [
        "###1.1 Seccion uno punto uno"
      ],
      "metadata": {
        "id": "4mghzlFK2AaH"
      }
    },
    {
      "cell_type": "markdown",
      "source": [
        "Descripcion de x *codigo* o proyecto\n",
        "⛺"
      ],
      "metadata": {
        "id": "0i3eCULq4YN2"
      }
    },
    {
      "cell_type": "markdown",
      "source": [
        "**\"Neque porro quisquam est qui <strong> dolorem ipsum </strong> quia dolor sit amet, consectetur, adipisci velit...\"**\n",
        "<hr>\n",
        "<br>\n",
        "\"There is no one who loves pain itself, who seeks after it and wants to have it, simply because it is pain...\""
      ],
      "metadata": {
        "id": "S5UQ_KvP4vG5"
      }
    },
    {
      "cell_type": "markdown",
      "source": [
        "###1.1.1 otra seccion"
      ],
      "metadata": {
        "id": "J1_Hl1AV2IB6"
      }
    },
    {
      "cell_type": "markdown",
      "source": [
        "##(2) Segunda Seccion"
      ],
      "metadata": {
        "id": "-o1m0UkN10Lu"
      }
    },
    {
      "cell_type": "markdown",
      "source": [
        "* tarea uno\n",
        "* tarea dos \n",
        "* tarea tres\n"
      ],
      "metadata": {
        "id": "sufFiJCa5VTH"
      }
    },
    {
      "cell_type": "markdown",
      "source": [
        "1. uno\n",
        "2. dos\n",
        "3. tres\n"
      ],
      "metadata": {
        "id": "P2CFr98r5dbp"
      }
    },
    {
      "cell_type": "markdown",
      "source": [
        "#Nuevo titulo principal"
      ],
      "metadata": {
        "id": "dq8NlmeX30iC"
      }
    }
  ]
}